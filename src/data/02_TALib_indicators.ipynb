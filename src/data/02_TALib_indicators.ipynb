{
 "cells": [
  {
   "attachments": {},
   "cell_type": "markdown",
   "metadata": {},
   "source": [
    "## TA-Lib으로 필요한 기술지표 변환\n",
    "- https://github.com/TA-Lib/ta-lib-python\n",
    "- conda install -c conda-forge ta-lib\n",
    "\n",
    "### 1. Size\n",
    "- **Market Capitalization**\n",
    "- Price-to-Earnings (P/E) ratio\n",
    "- Price-to-Book (P/B) ratio\n",
    "\n",
    "### 2. Value\n",
    "- **Book-to-market ratio (= 1/PBR)**\n",
    "- Assets(Book Value) \n",
    "- Price-to-Earnings (P/E) ratio\n",
    "- (Dividend, Earning yield, ROE ratio)\n",
    "\n",
    "### 3. Volatility\n",
    "- Bollinger Bands(20)\n",
    "- Average True Range (ATR; 14)\n",
    "- Chaikin Volatility (10)\n",
    "- Relative Volatility Index (RVI)\n",
    "- **Standard deviation**\n",
    "- 급변 지표 : fK, fD, SD, CCI, TR\n",
    "\n",
    "\n",
    "### 4. Momentum\n",
    "-Momentum(MOM)\n",
    "- Relative Strength Index (RSI; 10,14)\n",
    "- Moving Average Convergence Divergence (MACD; 6,12)\n",
    "- Stochastic Oscillator\n",
    "- Average Directional Index (ADX; 7,14)\n",
    "- Rate of Change (ROC; 12)\n",
    "- WillR\n"
   ]
  },
  {
   "cell_type": "code",
   "execution_count": 1,
   "metadata": {},
   "outputs": [],
   "source": [
    "import os\n",
    "import talib\n",
    "import numpy as np\n",
    "import pandas as pd\n",
    "\n",
    "# famafrench"
   ]
  },
  {
   "cell_type": "code",
   "execution_count": 2,
   "metadata": {},
   "outputs": [
    {
     "name": "stdout",
     "output_type": "stream",
     "text": [
      "[       nan        nan        nan        nan        nan        nan\n",
      "        nan        nan        nan        nan        nan        nan\n",
      "        nan        nan        nan        nan        nan        nan\n",
      "        nan        nan        nan        nan        nan        nan\n",
      "        nan        nan        nan        nan        nan 0.48780763\n",
      " 0.48752146 0.48208065 0.47634586 0.49256211 0.4851214  0.48102321\n",
      " 0.47626972 0.45635163 0.42979871 0.42696076 0.44511829 0.45532835\n",
      " 0.45079845 0.45806847 0.47917411 0.46935949 0.47083871 0.49039125\n",
      " 0.48602881 0.45812776 0.46499668 0.45426409 0.43661247 0.46140508\n",
      " 0.47479445 0.47643974 0.47670012 0.46105665 0.44724212 0.47047112\n",
      " 0.48427568 0.48433913 0.50956516 0.5064031  0.50598021 0.50305229\n",
      " 0.49246274 0.48861672 0.51152008 0.52568044 0.5017774  0.48903953\n",
      " 0.49605186 0.50501083 0.50287578 0.50146594 0.51797473 0.51682899\n",
      " 0.5135266  0.53738215 0.53537102 0.52896059 0.5275617  0.51585303\n",
      " 0.51265526 0.50723605 0.48440429 0.48947654 0.4752507  0.46371627\n",
      " 0.4450655  0.46453657 0.46500655 0.44805902 0.44934665 0.45382233\n",
      " 0.46905198 0.47329829 0.47325358 0.45220262]\n"
     ]
    }
   ],
   "source": [
    "# 예제코드\n",
    "close = np.random.random(100)\n",
    "output = talib.SMA(close)\n",
    "print(output)"
   ]
  },
  {
   "cell_type": "code",
   "execution_count": 2,
   "metadata": {},
   "outputs": [
    {
     "name": "stdout",
     "output_type": "stream",
     "text": [
      "['HT_DCPERIOD', 'HT_DCPHASE', 'HT_PHASOR', 'HT_SINE', 'HT_TRENDMODE', 'ADD', 'DIV', 'MAX', 'MAXINDEX', 'MIN', 'MININDEX', 'MINMAX', 'MINMAXINDEX', 'MULT', 'SUB', 'SUM', 'ACOS', 'ASIN', 'ATAN', 'CEIL', 'COS', 'COSH', 'EXP', 'FLOOR', 'LN', 'LOG10', 'SIN', 'SINH', 'SQRT', 'TAN', 'TANH', 'ADX', 'ADXR', 'APO', 'AROON', 'AROONOSC', 'BOP', 'CCI', 'CMO', 'DX', 'MACD', 'MACDEXT', 'MACDFIX', 'MFI', 'MINUS_DI', 'MINUS_DM', 'MOM', 'PLUS_DI', 'PLUS_DM', 'PPO', 'ROC', 'ROCP', 'ROCR', 'ROCR100', 'RSI', 'STOCH', 'STOCHF', 'STOCHRSI', 'TRIX', 'ULTOSC', 'WILLR', 'BBANDS', 'DEMA', 'EMA', 'HT_TRENDLINE', 'KAMA', 'MA', 'MAMA', 'MAVP', 'MIDPOINT', 'MIDPRICE', 'SAR', 'SAREXT', 'SMA', 'T3', 'TEMA', 'TRIMA', 'WMA', 'CDL2CROWS', 'CDL3BLACKCROWS', 'CDL3INSIDE', 'CDL3LINESTRIKE', 'CDL3OUTSIDE', 'CDL3STARSINSOUTH', 'CDL3WHITESOLDIERS', 'CDLABANDONEDBABY', 'CDLADVANCEBLOCK', 'CDLBELTHOLD', 'CDLBREAKAWAY', 'CDLCLOSINGMARUBOZU', 'CDLCONCEALBABYSWALL', 'CDLCOUNTERATTACK', 'CDLDARKCLOUDCOVER', 'CDLDOJI', 'CDLDOJISTAR', 'CDLDRAGONFLYDOJI', 'CDLENGULFING', 'CDLEVENINGDOJISTAR', 'CDLEVENINGSTAR', 'CDLGAPSIDESIDEWHITE', 'CDLGRAVESTONEDOJI', 'CDLHAMMER', 'CDLHANGINGMAN', 'CDLHARAMI', 'CDLHARAMICROSS', 'CDLHIGHWAVE', 'CDLHIKKAKE', 'CDLHIKKAKEMOD', 'CDLHOMINGPIGEON', 'CDLIDENTICAL3CROWS', 'CDLINNECK', 'CDLINVERTEDHAMMER', 'CDLKICKING', 'CDLKICKINGBYLENGTH', 'CDLLADDERBOTTOM', 'CDLLONGLEGGEDDOJI', 'CDLLONGLINE', 'CDLMARUBOZU', 'CDLMATCHINGLOW', 'CDLMATHOLD', 'CDLMORNINGDOJISTAR', 'CDLMORNINGSTAR', 'CDLONNECK', 'CDLPIERCING', 'CDLRICKSHAWMAN', 'CDLRISEFALL3METHODS', 'CDLSEPARATINGLINES', 'CDLSHOOTINGSTAR', 'CDLSHORTLINE', 'CDLSPINNINGTOP', 'CDLSTALLEDPATTERN', 'CDLSTICKSANDWICH', 'CDLTAKURI', 'CDLTASUKIGAP', 'CDLTHRUSTING', 'CDLTRISTAR', 'CDLUNIQUE3RIVER', 'CDLUPSIDEGAP2CROWS', 'CDLXSIDEGAP3METHODS', 'AVGPRICE', 'MEDPRICE', 'TYPPRICE', 'WCLPRICE', 'BETA', 'CORREL', 'LINEARREG', 'LINEARREG_ANGLE', 'LINEARREG_INTERCEPT', 'LINEARREG_SLOPE', 'STDDEV', 'TSF', 'VAR', 'ATR', 'NATR', 'TRANGE', 'AD', 'ADOSC', 'OBV']\n",
      "{'Cycle Indicators': ['HT_DCPERIOD', 'HT_DCPHASE', 'HT_PHASOR', 'HT_SINE', 'HT_TRENDMODE'], 'Math Operators': ['ADD', 'DIV', 'MAX', 'MAXINDEX', 'MIN', 'MININDEX', 'MINMAX', 'MINMAXINDEX', 'MULT', 'SUB', 'SUM'], 'Math Transform': ['ACOS', 'ASIN', 'ATAN', 'CEIL', 'COS', 'COSH', 'EXP', 'FLOOR', 'LN', 'LOG10', 'SIN', 'SINH', 'SQRT', 'TAN', 'TANH'], 'Momentum Indicators': ['ADX', 'ADXR', 'APO', 'AROON', 'AROONOSC', 'BOP', 'CCI', 'CMO', 'DX', 'MACD', 'MACDEXT', 'MACDFIX', 'MFI', 'MINUS_DI', 'MINUS_DM', 'MOM', 'PLUS_DI', 'PLUS_DM', 'PPO', 'ROC', 'ROCP', 'ROCR', 'ROCR100', 'RSI', 'STOCH', 'STOCHF', 'STOCHRSI', 'TRIX', 'ULTOSC', 'WILLR'], 'Overlap Studies': ['BBANDS', 'DEMA', 'EMA', 'HT_TRENDLINE', 'KAMA', 'MA', 'MAMA', 'MAVP', 'MIDPOINT', 'MIDPRICE', 'SAR', 'SAREXT', 'SMA', 'T3', 'TEMA', 'TRIMA', 'WMA'], 'Pattern Recognition': ['CDL2CROWS', 'CDL3BLACKCROWS', 'CDL3INSIDE', 'CDL3LINESTRIKE', 'CDL3OUTSIDE', 'CDL3STARSINSOUTH', 'CDL3WHITESOLDIERS', 'CDLABANDONEDBABY', 'CDLADVANCEBLOCK', 'CDLBELTHOLD', 'CDLBREAKAWAY', 'CDLCLOSINGMARUBOZU', 'CDLCONCEALBABYSWALL', 'CDLCOUNTERATTACK', 'CDLDARKCLOUDCOVER', 'CDLDOJI', 'CDLDOJISTAR', 'CDLDRAGONFLYDOJI', 'CDLENGULFING', 'CDLEVENINGDOJISTAR', 'CDLEVENINGSTAR', 'CDLGAPSIDESIDEWHITE', 'CDLGRAVESTONEDOJI', 'CDLHAMMER', 'CDLHANGINGMAN', 'CDLHARAMI', 'CDLHARAMICROSS', 'CDLHIGHWAVE', 'CDLHIKKAKE', 'CDLHIKKAKEMOD', 'CDLHOMINGPIGEON', 'CDLIDENTICAL3CROWS', 'CDLINNECK', 'CDLINVERTEDHAMMER', 'CDLKICKING', 'CDLKICKINGBYLENGTH', 'CDLLADDERBOTTOM', 'CDLLONGLEGGEDDOJI', 'CDLLONGLINE', 'CDLMARUBOZU', 'CDLMATCHINGLOW', 'CDLMATHOLD', 'CDLMORNINGDOJISTAR', 'CDLMORNINGSTAR', 'CDLONNECK', 'CDLPIERCING', 'CDLRICKSHAWMAN', 'CDLRISEFALL3METHODS', 'CDLSEPARATINGLINES', 'CDLSHOOTINGSTAR', 'CDLSHORTLINE', 'CDLSPINNINGTOP', 'CDLSTALLEDPATTERN', 'CDLSTICKSANDWICH', 'CDLTAKURI', 'CDLTASUKIGAP', 'CDLTHRUSTING', 'CDLTRISTAR', 'CDLUNIQUE3RIVER', 'CDLUPSIDEGAP2CROWS', 'CDLXSIDEGAP3METHODS'], 'Price Transform': ['AVGPRICE', 'MEDPRICE', 'TYPPRICE', 'WCLPRICE'], 'Statistic Functions': ['BETA', 'CORREL', 'LINEARREG', 'LINEARREG_ANGLE', 'LINEARREG_INTERCEPT', 'LINEARREG_SLOPE', 'STDDEV', 'TSF', 'VAR'], 'Volatility Indicators': ['ATR', 'NATR', 'TRANGE'], 'Volume Indicators': ['AD', 'ADOSC', 'OBV']}\n",
      "['Cycle Indicators', 'Math Operators', 'Math Transform', 'Momentum Indicators', 'Overlap Studies', 'Pattern Recognition', 'Price Transform', 'Statistic Functions', 'Volatility Indicators', 'Volume Indicators']\n"
     ]
    }
   ],
   "source": [
    "# list of functions\n",
    "print(talib.get_functions())\n",
    "\n",
    "# dict of functions by group\n",
    "print(talib.get_function_groups())\n",
    "print(list(talib.get_function_groups().keys()))"
   ]
  },
  {
   "cell_type": "code",
   "execution_count": 3,
   "metadata": {},
   "outputs": [
    {
     "data": {
      "text/plain": [
       "['ATR', 'NATR', 'TRANGE']"
      ]
     },
     "execution_count": 3,
     "metadata": {},
     "output_type": "execute_result"
    }
   ],
   "source": [
    "talib.get_function_groups()[\"Volatility Indicators\"]"
   ]
  },
  {
   "attachments": {},
   "cell_type": "markdown",
   "metadata": {},
   "source": [
    "## 팩터 투자를 위한 기술지표 만드는 클래스 함수"
   ]
  },
  {
   "cell_type": "code",
   "execution_count": 3,
   "metadata": {},
   "outputs": [],
   "source": [
    "class FactorIndicators():\n",
    "    def __init__(self) -> None:\n",
    "        pass\n",
    "\n",
    "    @staticmethod\n",
    "    def get_volatility(stock_data:pd.DataFrame):\n",
    "        upper, middle, lower = talib.BBANDS(stock_data[\"close\"], timeperiod=20) # Bollinger Band\n",
    "        std = talib.STDDEV(stock_data[\"close\"], timeperiod=5) #STDDEV(close, timeperiod=5, nbdev=1)\n",
    "        atr = talib.ATR(stock_data[\"high\"], stock_data[\"low\"], stock_data[\"close\"], timeperiod=14)\n",
    "        adosc = talib.ADOSC(stock_data[\"high\"], stock_data[\"low\"], stock_data[\"close\"], stock_data[\"volume\"],\n",
    "                            fastperiod=3, slowperiod=10) #Chaikin A/D Oscillator\n",
    "        cci = talib.CCI(stock_data[\"high\"], stock_data[\"low\"], stock_data[\"close\"], timeperiod=14) # CCI(high, low, close, timeperiod=14)\n",
    "        \n",
    "        # make pd.DataFrame() and save it\n",
    "        # NaN값 제거는... 하아... 고민좀 해보기... ㅜ_ㅜ\n",
    "        total_df = stock_data.copy()\n",
    "        total_df = total_df.assign(upper_bb = upper, middle_bb = middle, lower_bb=lower,\n",
    "                                   std=std, atr=atr, adosc=adosc, cci=cci)\n",
    "        return total_df\n",
    "    \n",
    "    @staticmethod\n",
    "    def get_momentum(stock_data:pd.DataFrame):\n",
    "        # mom5 = talib.MOM(close, timeperiod=5) # 100days only\n",
    "        # ma = talib.MA(close, timeperiod=30, matype=0)\n",
    "        # wma = talib.WMA(close, timeperiod=30)\n",
    "        rsi = talib.RSI(stock_data[\"close\"], timeperiod=14) #10, 14\n",
    "        macd, macd_signal, macd_hist = talib.MACD(stock_data[\"close\"], fastperiod=12, slowperiod=26, signalperiod=9) #6, 12\n",
    "        adx = talib.ADX(stock_data[\"high\"], stock_data[\"low\"], stock_data[\"close\"], timeperiod=14) #7,14\n",
    "        roc = talib.ROC(stock_data[\"close\"], timeperiod=12) #12 #Rate of change : ((price/prevPrice)-1)*100\n",
    "        willr = talib.WILLR(stock_data[\"high\"], stock_data[\"low\"], stock_data[\"close\"], timeperiod=14) \n",
    "        slowk, slowd = talib.STOCH(stock_data[\"high\"], stock_data[\"low\"], stock_data[\"close\"], \n",
    "                                   fastk_period=5, slowk_period=3, slowk_matype=0, slowd_period=3, slowd_matype=0)\n",
    "        total_df = stock_data.copy()\n",
    "        total_df = total_df.assign(rsi=rsi, macd=macd,\n",
    "                                   adx=adx, roc=roc, willr=willr, slowk=slowk, slowd=slowd)\n",
    "        \n",
    "        return total_df\n",
    "\n",
    "    @staticmethod\n",
    "    def get_rep_factor(stock_data:pd.DataFrame):\n",
    "        # 대표적인 팩터 한개씩만 사용하기\n",
    "        std = talib.STDDEV(stock_data[\"close\"], timeperiod=14) \n",
    "        macd, macd_signal, macd_hist = talib.MACD(stock_data[\"close\"], fastperiod=12, slowperiod=26, signalperiod=9) #6, 12\n",
    "        total_df = stock_data.copy()\n",
    "        total_df = total_df.assign(std=std, macd=macd)\n",
    "        return total_df"
   ]
  },
  {
   "attachments": {},
   "cell_type": "markdown",
   "metadata": {},
   "source": [
    "## All Data Load "
   ]
  },
  {
   "cell_type": "code",
   "execution_count": 4,
   "metadata": {},
   "outputs": [
    {
     "data": {
      "text/plain": [
       "'/home1/hwang/famafrench_data/stockdata/final_data'"
      ]
     },
     "execution_count": 4,
     "metadata": {},
     "output_type": "execute_result"
    }
   ],
   "source": [
    "BASE_DIR = os.path.abspath('').split('/src')[0]\n",
    "DATA_DIR = os.path.abspath('').split('/trading')[0]+'/famafrench_data/stockdata/final_data'\n",
    "BASE_DIR\n",
    "DATA_DIR"
   ]
  },
  {
   "cell_type": "code",
   "execution_count": 6,
   "metadata": {},
   "outputs": [
    {
     "name": "stdout",
     "output_type": "stream",
     "text": [
      "start_date:  2004-11-16 00:00:00\n",
      "Ticker AXP is done.\n",
      "start_date:  2004-11-16 00:00:00\n",
      "Ticker MSFT is done.\n",
      "start_date:  2004-11-16 00:00:00\n",
      "Ticker BA is done.\n",
      "start_date:  2004-11-16 00:00:00\n",
      "Ticker PG is done.\n",
      "start_date:  2004-11-16 00:00:00\n",
      "Ticker VZ is done.\n",
      "start_date:  2004-11-16 00:00:00\n",
      "Ticker CSCO is done.\n",
      "start_date:  2004-11-16 00:00:00\n",
      "Ticker DIS is done.\n",
      "start_date:  2004-11-16 00:00:00\n",
      "Ticker IBM is done.\n",
      "start_date:  2004-11-16 00:00:00\n",
      "Ticker HD is done.\n",
      "start_date:  2004-11-16 00:00:00\n",
      "Ticker TRV is done.\n",
      "start_date:  2004-11-16 00:00:00\n",
      "Ticker HON is done.\n",
      "start_date:  2004-11-16 00:00:00\n",
      "Ticker JNJ is done.\n",
      "start_date:  2004-11-16 00:00:00\n",
      "Ticker JPM is done.\n",
      "start_date:  2004-11-16 00:00:00\n",
      "Ticker CAT is done.\n",
      "start_date:  2004-11-16 00:00:00\n",
      "Ticker MCD is done.\n",
      "start_date:  2004-11-16 00:00:00\n",
      "Ticker MRK is done.\n",
      "start_date:  2004-11-16 00:00:00\n",
      "Ticker GS is done.\n",
      "start_date:  2004-11-16 00:00:00\n",
      "Ticker INTC is done.\n",
      "start_date:  2004-11-16 00:00:00\n",
      "Ticker AMGN is done.\n",
      "start_date:  2004-11-16 00:00:00\n",
      "Ticker MMM is done.\n",
      "start_date:  2004-11-16 00:00:00\n",
      "Ticker UNH is done.\n",
      "start_date:  2004-11-16 00:00:00\n",
      "Ticker WMT is done.\n",
      "start_date:  2004-11-16 00:00:00\n",
      "Ticker AAPL is done.\n",
      "start_date:  2004-11-16 00:00:00\n",
      "Ticker KO is done.\n",
      "start_date:  2004-11-16 00:00:00\n",
      "Ticker NKE is done.\n",
      "start_date:  2004-11-16 00:00:00\n",
      "Ticker CVX is done.\n",
      "All Finished.\n"
     ]
    }
   ],
   "source": [
    "BASE_DIR = os.path.abspath('').split('/src')[0]\n",
    "DATA_DIR = os.path.abspath('').split('/trading')[0]+'/famafrench_data/stockdata/final_data'\n",
    "SAVE_DIR = os.path.abspath('').split('/trading')[0]+\"/famafrench_data/stockdata/final_with_factor\"\n",
    "country = \"DJIA\" #\"USA\"\n",
    "\n",
    "# os.makedirs(SAVE_DIR+f\"/{country}\", exist_ok=True)\n",
    "os.makedirs(SAVE_DIR+f\"/{country}/onlyfactor\", exist_ok=True)\n",
    "os.makedirs(SAVE_DIR+f\"/{country}/rep\", exist_ok=True)\n",
    "os.makedirs(SAVE_DIR+f\"/{country}/whole\", exist_ok=True)\n",
    "\n",
    "\n",
    "ticker_list = [i.split(\".csv\")[0] for i in os.listdir(DATA_DIR+f\"/{country}\") if i.endswith(\".csv\")]\n",
    "for tic in ticker_list:\n",
    "    df = pd.read_csv(f'{DATA_DIR}/{country}/{tic}.csv', index_col=\"date\", parse_dates=[\"date\"])\n",
    "    df = df.fillna(method='ffill').fillna(method='bfill')\n",
    "    \n",
    "    # make data\n",
    "    factor = FactorIndicators()\n",
    "    data1 = factor.get_volatility(df)\n",
    "    data2 = factor.get_momentum(data1)\n",
    "    rep_data = factor.get_rep_factor(df)\n",
    "\n",
    "    # nan 값 없애기\n",
    "    dataset_nan_deleted = data2.dropna()\n",
    "    rep_nan_deleted = rep_data.dropna()\n",
    "    assert len(dataset_nan_deleted)==len(rep_nan_deleted), \"len(dataset_nan_deleted)!=len(rep_nan_deleted)\"\n",
    "    start_date = dataset_nan_deleted.index[0]\n",
    "    print(\"start_date: \", start_date)\n",
    "\n",
    "    # save file include ohlcv\n",
    "    # data2.to_csv(f'{SAVE_DIR}/{country}/whole/{tic}.csv')\n",
    "    # rep_data.to_csv(f'{SAVE_DIR}/{country}/rep/{tic}.csv')\n",
    "    dataset_nan_deleted.to_csv(f'{SAVE_DIR}/{country}/whole/{tic}.csv')\n",
    "    rep_nan_deleted.to_csv(f'{SAVE_DIR}/{country}/rep/{tic}.csv')\n",
    "    \n",
    "    # save file exclude ohlcv\n",
    "    data3 = dataset_nan_deleted.drop(['open', 'high', 'low', 'close', 'volume'], axis=1)\n",
    "    data3.to_csv(f'{SAVE_DIR}/{country}/onlyfactor/{tic}.csv') \n",
    "    print(f\"Ticker {tic} is done.\")\n",
    "\n",
    "print(\"All Finished.\")\n"
   ]
  },
  {
   "cell_type": "code",
   "execution_count": 7,
   "metadata": {},
   "outputs": [
    {
     "name": "stdout",
     "output_type": "stream",
     "text": [
      "start_date:  2002-10-18 00:00:00\n",
      "Ticker MU is done.\n",
      "start_date:  2002-10-18 00:00:00\n",
      "Ticker MSFT is done.\n",
      "start_date:  2002-10-18 00:00:00\n",
      "Ticker CSX is done.\n",
      "start_date:  2002-10-18 00:00:00\n",
      "Ticker TXN is done.\n",
      "start_date:  2002-10-18 00:00:00\n",
      "Ticker ORLY is done.\n",
      "start_date:  2002-10-18 00:00:00\n",
      "Ticker ADI is done.\n",
      "start_date:  2002-10-18 00:00:00\n",
      "Ticker AMZN is done.\n",
      "start_date:  2002-10-18 00:00:00\n",
      "Ticker NFLX is done.\n",
      "start_date:  2002-10-18 00:00:00\n",
      "Ticker CSCO is done.\n",
      "start_date:  2002-10-18 00:00:00\n",
      "Ticker HON is done.\n",
      "start_date:  2002-10-18 00:00:00\n",
      "Ticker INTU is done.\n",
      "start_date:  2002-10-18 00:00:00\n",
      "Ticker ADP is done.\n",
      "start_date:  2002-10-18 00:00:00\n",
      "Ticker AMAT is done.\n",
      "start_date:  2002-10-18 00:00:00\n",
      "Ticker VRTX is done.\n",
      "start_date:  2002-10-18 00:00:00\n",
      "Ticker AMD is done.\n",
      "start_date:  2002-10-18 00:00:00\n",
      "Ticker COST is done.\n",
      "start_date:  2002-10-18 00:00:00\n",
      "Ticker REGN is done.\n",
      "start_date:  2002-10-18 00:00:00\n",
      "Ticker INTC is done.\n",
      "start_date:  2002-10-18 00:00:00\n",
      "Ticker AMGN is done.\n",
      "start_date:  2002-10-18 00:00:00\n",
      "Ticker AAPL is done.\n",
      "start_date:  2002-10-18 00:00:00\n",
      "Ticker ADBE is done.\n",
      "start_date:  2002-10-18 00:00:00\n",
      "Ticker ISRG is done.\n",
      "start_date:  2002-10-18 00:00:00\n",
      "Ticker LRCX is done.\n",
      "start_date:  2002-10-18 00:00:00\n",
      "Ticker PEP is done.\n",
      "start_date:  2002-10-18 00:00:00\n",
      "Ticker BKNG is done.\n",
      "start_date:  2002-10-18 00:00:00\n",
      "Ticker FISV is done.\n",
      "start_date:  2002-10-18 00:00:00\n",
      "Ticker QCOM is done.\n",
      "start_date:  2002-10-18 00:00:00\n",
      "Ticker GILD is done.\n",
      "start_date:  2002-10-18 00:00:00\n",
      "Ticker SBUX is done.\n",
      "start_date:  2002-10-18 00:00:00\n",
      "Ticker SNPS is done.\n",
      "All Finished.\n"
     ]
    }
   ],
   "source": [
    "BASE_DIR = os.path.abspath('').split('/src')[0]\n",
    "DATA_DIR = os.path.abspath('').split('/trading')[0]+'/famafrench_data/stockdata/final_data'\n",
    "SAVE_DIR = os.path.abspath('').split('/trading')[0]+\"/famafrench_data/stockdata/final_with_factor\"\n",
    "country = \"NASDAQ\" #\"USA\"\n",
    "\n",
    "# os.makedirs(SAVE_DIR+f\"/{country}\", exist_ok=True)\n",
    "os.makedirs(SAVE_DIR+f\"/{country}/onlyfactor\", exist_ok=True)\n",
    "os.makedirs(SAVE_DIR+f\"/{country}/rep\", exist_ok=True)\n",
    "os.makedirs(SAVE_DIR+f\"/{country}/whole\", exist_ok=True)\n",
    "\n",
    "\n",
    "ticker_list = [i.split(\".csv\")[0] for i in os.listdir(DATA_DIR+f\"/{country}\") if i.endswith(\".csv\")]\n",
    "for tic in ticker_list:\n",
    "    df = pd.read_csv(f'{DATA_DIR}/{country}/{tic}.csv', index_col=\"date\", parse_dates=[\"date\"])\n",
    "    df = df.fillna(method='ffill').fillna(method='bfill')\n",
    "    \n",
    "    # make data\n",
    "    factor = FactorIndicators()\n",
    "    data1 = factor.get_volatility(df)\n",
    "    data2 = factor.get_momentum(data1)\n",
    "    rep_data = factor.get_rep_factor(df)\n",
    "\n",
    "    # nan 값 없애기\n",
    "    dataset_nan_deleted = data2.dropna()\n",
    "    rep_nan_deleted = rep_data.dropna()\n",
    "    assert len(dataset_nan_deleted)==len(rep_nan_deleted), \"len(dataset_nan_deleted)!=len(rep_nan_deleted)\"\n",
    "    start_date = dataset_nan_deleted.index[0]\n",
    "    print(\"start_date: \", start_date)\n",
    "\n",
    "    # save file include ohlcv\n",
    "    # data2.to_csv(f'{SAVE_DIR}/{country}/whole/{tic}.csv')\n",
    "    # rep_data.to_csv(f'{SAVE_DIR}/{country}/rep/{tic}.csv')\n",
    "    dataset_nan_deleted.to_csv(f'{SAVE_DIR}/{country}/whole/{tic}.csv')\n",
    "    rep_nan_deleted.to_csv(f'{SAVE_DIR}/{country}/rep/{tic}.csv')\n",
    "    \n",
    "    # save file exclude ohlcv\n",
    "    data3 = dataset_nan_deleted.drop(['open', 'high', 'low', 'close', 'volume'], axis=1)\n",
    "    data3.to_csv(f'{SAVE_DIR}/{country}/onlyfactor/{tic}.csv') \n",
    "    print(f\"Ticker {tic} is done.\")\n",
    "\n",
    "print(\"All Finished.\")\n"
   ]
  },
  {
   "cell_type": "code",
   "execution_count": null,
   "metadata": {},
   "outputs": [],
   "source": []
  }
 ],
 "metadata": {
  "kernelspec": {
   "display_name": "famafrench",
   "language": "python",
   "name": "python3"
  },
  "language_info": {
   "codemirror_mode": {
    "name": "ipython",
    "version": 3
   },
   "file_extension": ".py",
   "mimetype": "text/x-python",
   "name": "python",
   "nbconvert_exporter": "python",
   "pygments_lexer": "ipython3",
   "version": "3.8.0"
  },
  "orig_nbformat": 4,
  "vscode": {
   "interpreter": {
    "hash": "e98f2eee9a898e4d686edaaf738d0c261e052aa798f48fce9d1148c32f28e070"
   }
  }
 },
 "nbformat": 4,
 "nbformat_minor": 2
}
