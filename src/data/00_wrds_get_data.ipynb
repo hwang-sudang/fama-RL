{
 "cells": [
  {
   "cell_type": "code",
   "execution_count": 4,
   "metadata": {},
   "outputs": [],
   "source": [
    "import os\n",
    "import time\n",
    "# import wrds # pip install -Iv wrds==3.1.6\n",
    "import pandas as pd\n",
    "import numpy as np\n",
    "from tqdm import tqdm\n",
    "# base\n"
   ]
  },
  {
   "attachments": {},
   "cell_type": "markdown",
   "metadata": {},
   "source": [
    "## Query 작성 방법\n",
    "- FROM : Library.File -> compd.secm\n",
    "- Data Range : \n",
    "- https://wrds-www.wharton.upenn.edu/pages/get-data/compustat-capital-iq-standard-poors/compustat/north-america-daily/security-monthly/\n",
    "- https://wrds-www.wharton.upenn.edu/pages/get-data/compustat-capital-iq-standard-poors/compustat/north-america-daily/fundamentals-quarterly/\n"
   ]
  },
  {
   "attachments": {},
   "cell_type": "markdown",
   "metadata": {},
   "source": [
    "## Code 정리"
   ]
  },
  {
   "cell_type": "code",
   "execution_count": 9,
   "metadata": {},
   "outputs": [
    {
     "data": {
      "text/plain": [
       "'/home/ubuntu2010/바탕화면/DEV/trading14/src/data'"
      ]
     },
     "execution_count": 9,
     "metadata": {},
     "output_type": "execute_result"
    }
   ],
   "source": [
    "os.path.abspath('')"
   ]
  },
  {
   "cell_type": "code",
   "execution_count": 12,
   "metadata": {},
   "outputs": [],
   "source": [
    "# 실험을 위해 필요한 변수들\n",
    "# nasq_ticker list : https://www.slickcharts.com/nasdaq100\n",
    "# sys_dir = os.path.abspath(__file__)\n",
    "BASE_DIR = os.path.abspath('').split('/src')[0]\n",
    "DATA_DIR = os.path.abspath('').split('/trading')[0]+'/famafrench_data'\n",
    "\n",
    "save_data_dir = f'{DATA_DIR}/stockdata/final_data'\n",
    "nasq_ticker_name = ['AAPL', 'ADBE', 'ADI', 'ADP', 'AMAT', 'AMD', 'AMGN', 'AMZN', 'BKNG', 'COST', \n",
    "                    'CSCO', 'CSX', 'FISV', 'GILD', 'HON', 'INTC', 'INTU', 'ISRG', 'LRCX', 'MSFT', \n",
    "                    'MU', 'NFLX', 'ORLY', 'PEP', 'QCOM', 'REGN', 'SBUX', 'SNPS', 'TXN', 'VRTX']\n",
    "\n",
    "djia_ticker_name = ['UNH', 'GS', 'MSFT', 'HD', 'MCD', 'AMGN', 'CAT', 'BA', 'HON', \n",
    "                    'TRV', 'AAPL', 'CVX', 'JNJ', 'AXP', 'PG', 'WMT', 'JPM', 'NKE', \n",
    "                    'IBM', 'MRK', 'MMM', 'DIS', 'KO', 'CSCO', 'VZ', 'INTC'] #DOW, V, WBA, CRM\n",
    "\n",
    "\n",
    "os.makedirs(save_data_dir+f\"/NASDAQ\", exist_ok=True)\n",
    "os.makedirs(save_data_dir+f\"/DJIA\", exist_ok=True)"
   ]
  },
  {
   "cell_type": "code",
   "execution_count": 4,
   "metadata": {},
   "outputs": [],
   "source": [
    "# JSON File도 만들어야 하는데. 그거는 좀이따\n",
    "portfolio_info_dir = f'{BASE_DIR}/portfolio_info'\n",
    "json_name = 'portfolio.json' #'diy_portfolio.json'\n",
    "\n",
    "os.makedirs(portfolio_info_dir+f\"/NASDAQ\", exist_ok=True)\n",
    "os.makedirs(portfolio_info_dir+f\"/DJIA\", exist_ok=True)\n"
   ]
  },
  {
   "cell_type": "code",
   "execution_count": 5,
   "metadata": {},
   "outputs": [
    {
     "name": "stdout",
     "output_type": "stream",
     "text": [
      "Loading library list...\n",
      "Done\n"
     ]
    }
   ],
   "source": [
    "# db on\n",
    "db = wrds.Connection(wrds_username='kwonhj1015', wrds_password='deidala0505')"
   ]
  },
  {
   "attachments": {},
   "cell_type": "markdown",
   "metadata": {},
   "source": [
    "### Check the Database"
   ]
  },
  {
   "cell_type": "code",
   "execution_count": 6,
   "metadata": {},
   "outputs": [
    {
     "name": "stdout",
     "output_type": "stream",
     "text": [
      "Approximately 2752175 rows in wrdsapps.firm_ratio_ibes.\n"
     ]
    },
    {
     "ename": "KeyboardInterrupt",
     "evalue": "",
     "output_type": "error",
     "traceback": [
      "\u001b[0;31m---------------------------------------------------------------------------\u001b[0m",
      "\u001b[0;31mKeyboardInterrupt\u001b[0m                         Traceback (most recent call last)",
      "Cell \u001b[0;32mIn[6], line 3\u001b[0m\n\u001b[1;32m      1\u001b[0m db\u001b[39m.\u001b[39mlist_libraries()\n\u001b[1;32m      2\u001b[0m db\u001b[39m.\u001b[39mlist_tables(library\u001b[39m=\u001b[39m\u001b[39m'\u001b[39m\u001b[39mwrdsapps\u001b[39m\u001b[39m'\u001b[39m)\n\u001b[0;32m----> 3\u001b[0m db\u001b[39m.\u001b[39;49mdescribe_table(library\u001b[39m=\u001b[39;49m\u001b[39m'\u001b[39;49m\u001b[39mwrdsapps\u001b[39;49m\u001b[39m'\u001b[39;49m, table\u001b[39m=\u001b[39;49m\u001b[39m'\u001b[39;49m\u001b[39mfirm_ratio_ibes\u001b[39;49m\u001b[39m'\u001b[39;49m)\n",
      "File \u001b[0;32m~/.local/lib/python3.8/site-packages/wrds/sql.py:432\u001b[0m, in \u001b[0;36mConnection.describe_table\u001b[0;34m(self, library, table)\u001b[0m\n\u001b[1;32m    429\u001b[0m rows \u001b[39m=\u001b[39m \u001b[39mself\u001b[39m\u001b[39m.\u001b[39mget_row_count(library, table)\n\u001b[1;32m    430\u001b[0m \u001b[39mprint\u001b[39m(\u001b[39m\"\u001b[39m\u001b[39mApproximately \u001b[39m\u001b[39m{}\u001b[39;00m\u001b[39m rows in \u001b[39m\u001b[39m{}\u001b[39;00m\u001b[39m.\u001b[39m\u001b[39m{}\u001b[39;00m\u001b[39m.\u001b[39m\u001b[39m\"\u001b[39m\u001b[39m.\u001b[39mformat(rows, library, table))\n\u001b[1;32m    431\u001b[0m table_info \u001b[39m=\u001b[39m pd\u001b[39m.\u001b[39mDataFrame\u001b[39m.\u001b[39mfrom_dict(\n\u001b[0;32m--> 432\u001b[0m     \u001b[39mself\u001b[39;49m\u001b[39m.\u001b[39;49minsp\u001b[39m.\u001b[39;49mget_columns(table, schema\u001b[39m=\u001b[39;49mlibrary))\n\u001b[1;32m    433\u001b[0m \u001b[39mreturn\u001b[39;00m table_info[[\u001b[39m'\u001b[39m\u001b[39mname\u001b[39m\u001b[39m'\u001b[39m, \u001b[39m'\u001b[39m\u001b[39mnullable\u001b[39m\u001b[39m'\u001b[39m, \u001b[39m'\u001b[39m\u001b[39mtype\u001b[39m\u001b[39m'\u001b[39m]]\n",
      "File \u001b[0;32m~/anaconda3/lib/python3.8/site-packages/sqlalchemy/engine/reflection.py:497\u001b[0m, in \u001b[0;36mInspector.get_columns\u001b[0;34m(self, table_name, schema, **kw)\u001b[0m\n\u001b[1;32m    443\u001b[0m \u001b[39m\"\"\"Return information about columns in `table_name`.\u001b[39;00m\n\u001b[1;32m    444\u001b[0m \n\u001b[1;32m    445\u001b[0m \u001b[39mGiven a string `table_name` and an optional string `schema`, return\u001b[39;00m\n\u001b[0;32m   (...)\u001b[0m\n\u001b[1;32m    493\u001b[0m \n\u001b[1;32m    494\u001b[0m \u001b[39m\"\"\"\u001b[39;00m\n\u001b[1;32m    496\u001b[0m \u001b[39mwith\u001b[39;00m \u001b[39mself\u001b[39m\u001b[39m.\u001b[39m_operation_context() \u001b[39mas\u001b[39;00m conn:\n\u001b[0;32m--> 497\u001b[0m     col_defs \u001b[39m=\u001b[39m \u001b[39mself\u001b[39;49m\u001b[39m.\u001b[39;49mdialect\u001b[39m.\u001b[39;49mget_columns(\n\u001b[1;32m    498\u001b[0m         conn, table_name, schema, info_cache\u001b[39m=\u001b[39;49m\u001b[39mself\u001b[39;49m\u001b[39m.\u001b[39;49minfo_cache, \u001b[39m*\u001b[39;49m\u001b[39m*\u001b[39;49mkw\n\u001b[1;32m    499\u001b[0m     )\n\u001b[1;32m    500\u001b[0m \u001b[39mfor\u001b[39;00m col_def \u001b[39min\u001b[39;00m col_defs:\n\u001b[1;32m    501\u001b[0m     \u001b[39m# make this easy and only return instances for coltype\u001b[39;00m\n\u001b[1;32m    502\u001b[0m     coltype \u001b[39m=\u001b[39m col_def[\u001b[39m\"\u001b[39m\u001b[39mtype\u001b[39m\u001b[39m\"\u001b[39m]\n",
      "File \u001b[0;32m<string>:2\u001b[0m, in \u001b[0;36mget_columns\u001b[0;34m(self, connection, table_name, schema, **kw)\u001b[0m\n",
      "File \u001b[0;32m~/anaconda3/lib/python3.8/site-packages/sqlalchemy/engine/reflection.py:55\u001b[0m, in \u001b[0;36mcache\u001b[0;34m(fn, self, con, *args, **kw)\u001b[0m\n\u001b[1;32m     53\u001b[0m ret \u001b[39m=\u001b[39m info_cache\u001b[39m.\u001b[39mget(key)\n\u001b[1;32m     54\u001b[0m \u001b[39mif\u001b[39;00m ret \u001b[39mis\u001b[39;00m \u001b[39mNone\u001b[39;00m:\n\u001b[0;32m---> 55\u001b[0m     ret \u001b[39m=\u001b[39m fn(\u001b[39mself\u001b[39;49m, con, \u001b[39m*\u001b[39;49margs, \u001b[39m*\u001b[39;49m\u001b[39m*\u001b[39;49mkw)\n\u001b[1;32m     56\u001b[0m     info_cache[key] \u001b[39m=\u001b[39m ret\n\u001b[1;32m     57\u001b[0m \u001b[39mreturn\u001b[39;00m ret\n",
      "File \u001b[0;32m~/anaconda3/lib/python3.8/site-packages/sqlalchemy/dialects/postgresql/base.py:3859\u001b[0m, in \u001b[0;36mPGDialect.get_columns\u001b[0;34m(self, connection, table_name, schema, **kw)\u001b[0m\n\u001b[1;32m   3856\u001b[0m \u001b[39m@reflection\u001b[39m\u001b[39m.\u001b[39mcache\n\u001b[1;32m   3857\u001b[0m \u001b[39mdef\u001b[39;00m \u001b[39mget_columns\u001b[39m(\u001b[39mself\u001b[39m, connection, table_name, schema\u001b[39m=\u001b[39m\u001b[39mNone\u001b[39;00m, \u001b[39m*\u001b[39m\u001b[39m*\u001b[39mkw):\n\u001b[0;32m-> 3859\u001b[0m     table_oid \u001b[39m=\u001b[39m \u001b[39mself\u001b[39;49m\u001b[39m.\u001b[39;49mget_table_oid(\n\u001b[1;32m   3860\u001b[0m         connection, table_name, schema, info_cache\u001b[39m=\u001b[39;49mkw\u001b[39m.\u001b[39;49mget(\u001b[39m\"\u001b[39;49m\u001b[39minfo_cache\u001b[39;49m\u001b[39m\"\u001b[39;49m)\n\u001b[1;32m   3861\u001b[0m     )\n\u001b[1;32m   3863\u001b[0m     generated \u001b[39m=\u001b[39m (\n\u001b[1;32m   3864\u001b[0m         \u001b[39m\"\u001b[39m\u001b[39ma.attgenerated as generated\u001b[39m\u001b[39m\"\u001b[39m\n\u001b[1;32m   3865\u001b[0m         \u001b[39mif\u001b[39;00m \u001b[39mself\u001b[39m\u001b[39m.\u001b[39mserver_version_info \u001b[39m>\u001b[39m\u001b[39m=\u001b[39m (\u001b[39m12\u001b[39m,)\n\u001b[1;32m   3866\u001b[0m         \u001b[39melse\u001b[39;00m \u001b[39m\"\u001b[39m\u001b[39mNULL as generated\u001b[39m\u001b[39m\"\u001b[39m\n\u001b[1;32m   3867\u001b[0m     )\n\u001b[1;32m   3868\u001b[0m     \u001b[39mif\u001b[39;00m \u001b[39mself\u001b[39m\u001b[39m.\u001b[39mserver_version_info \u001b[39m>\u001b[39m\u001b[39m=\u001b[39m (\u001b[39m10\u001b[39m,):\n\u001b[1;32m   3869\u001b[0m         \u001b[39m# a.attidentity != '' is required or it will reflect also\u001b[39;00m\n\u001b[1;32m   3870\u001b[0m         \u001b[39m# serial columns as identity.\u001b[39;00m\n",
      "File \u001b[0;32m<string>:2\u001b[0m, in \u001b[0;36mget_table_oid\u001b[0;34m(self, connection, table_name, schema, **kw)\u001b[0m\n",
      "File \u001b[0;32m~/anaconda3/lib/python3.8/site-packages/sqlalchemy/engine/reflection.py:55\u001b[0m, in \u001b[0;36mcache\u001b[0;34m(fn, self, con, *args, **kw)\u001b[0m\n\u001b[1;32m     53\u001b[0m ret \u001b[39m=\u001b[39m info_cache\u001b[39m.\u001b[39mget(key)\n\u001b[1;32m     54\u001b[0m \u001b[39mif\u001b[39;00m ret \u001b[39mis\u001b[39;00m \u001b[39mNone\u001b[39;00m:\n\u001b[0;32m---> 55\u001b[0m     ret \u001b[39m=\u001b[39m fn(\u001b[39mself\u001b[39;49m, con, \u001b[39m*\u001b[39;49margs, \u001b[39m*\u001b[39;49m\u001b[39m*\u001b[39;49mkw)\n\u001b[1;32m     56\u001b[0m     info_cache[key] \u001b[39m=\u001b[39m ret\n\u001b[1;32m     57\u001b[0m \u001b[39mreturn\u001b[39;00m ret\n",
      "File \u001b[0;32m~/anaconda3/lib/python3.8/site-packages/sqlalchemy/dialects/postgresql/base.py:3736\u001b[0m, in \u001b[0;36mPGDialect.get_table_oid\u001b[0;34m(self, connection, table_name, schema, **kw)\u001b[0m\n\u001b[1;32m   3734\u001b[0m \u001b[39mif\u001b[39;00m schema:\n\u001b[1;32m   3735\u001b[0m     s \u001b[39m=\u001b[39m s\u001b[39m.\u001b[39mbindparams(sql\u001b[39m.\u001b[39mbindparam(\u001b[39m\"\u001b[39m\u001b[39mschema\u001b[39m\u001b[39m\"\u001b[39m, type_\u001b[39m=\u001b[39msqltypes\u001b[39m.\u001b[39mUnicode))\n\u001b[0;32m-> 3736\u001b[0m c \u001b[39m=\u001b[39m connection\u001b[39m.\u001b[39;49mexecute(s, \u001b[39mdict\u001b[39;49m(table_name\u001b[39m=\u001b[39;49mtable_name, schema\u001b[39m=\u001b[39;49mschema))\n\u001b[1;32m   3737\u001b[0m table_oid \u001b[39m=\u001b[39m c\u001b[39m.\u001b[39mscalar()\n\u001b[1;32m   3738\u001b[0m \u001b[39mif\u001b[39;00m table_oid \u001b[39mis\u001b[39;00m \u001b[39mNone\u001b[39;00m:\n",
      "File \u001b[0;32m~/anaconda3/lib/python3.8/site-packages/sqlalchemy/engine/base.py:1385\u001b[0m, in \u001b[0;36mConnection.execute\u001b[0;34m(self, statement, *multiparams, **params)\u001b[0m\n\u001b[1;32m   1381\u001b[0m     util\u001b[39m.\u001b[39mraise_(\n\u001b[1;32m   1382\u001b[0m         exc\u001b[39m.\u001b[39mObjectNotExecutableError(statement), replace_context\u001b[39m=\u001b[39merr\n\u001b[1;32m   1383\u001b[0m     )\n\u001b[1;32m   1384\u001b[0m \u001b[39melse\u001b[39;00m:\n\u001b[0;32m-> 1385\u001b[0m     \u001b[39mreturn\u001b[39;00m meth(\u001b[39mself\u001b[39;49m, multiparams, params, _EMPTY_EXECUTION_OPTS)\n",
      "File \u001b[0;32m~/anaconda3/lib/python3.8/site-packages/sqlalchemy/sql/elements.py:334\u001b[0m, in \u001b[0;36mClauseElement._execute_on_connection\u001b[0;34m(self, connection, multiparams, params, execution_options, _force)\u001b[0m\n\u001b[1;32m    330\u001b[0m \u001b[39mdef\u001b[39;00m \u001b[39m_execute_on_connection\u001b[39m(\n\u001b[1;32m    331\u001b[0m     \u001b[39mself\u001b[39m, connection, multiparams, params, execution_options, _force\u001b[39m=\u001b[39m\u001b[39mFalse\u001b[39;00m\n\u001b[1;32m    332\u001b[0m ):\n\u001b[1;32m    333\u001b[0m     \u001b[39mif\u001b[39;00m _force \u001b[39mor\u001b[39;00m \u001b[39mself\u001b[39m\u001b[39m.\u001b[39msupports_execution:\n\u001b[0;32m--> 334\u001b[0m         \u001b[39mreturn\u001b[39;00m connection\u001b[39m.\u001b[39;49m_execute_clauseelement(\n\u001b[1;32m    335\u001b[0m             \u001b[39mself\u001b[39;49m, multiparams, params, execution_options\n\u001b[1;32m    336\u001b[0m         )\n\u001b[1;32m    337\u001b[0m     \u001b[39melse\u001b[39;00m:\n\u001b[1;32m    338\u001b[0m         \u001b[39mraise\u001b[39;00m exc\u001b[39m.\u001b[39mObjectNotExecutableError(\u001b[39mself\u001b[39m)\n",
      "File \u001b[0;32m~/anaconda3/lib/python3.8/site-packages/sqlalchemy/engine/base.py:1577\u001b[0m, in \u001b[0;36mConnection._execute_clauseelement\u001b[0;34m(self, elem, multiparams, params, execution_options)\u001b[0m\n\u001b[1;32m   1565\u001b[0m compiled_cache \u001b[39m=\u001b[39m execution_options\u001b[39m.\u001b[39mget(\n\u001b[1;32m   1566\u001b[0m     \u001b[39m\"\u001b[39m\u001b[39mcompiled_cache\u001b[39m\u001b[39m\"\u001b[39m, \u001b[39mself\u001b[39m\u001b[39m.\u001b[39mengine\u001b[39m.\u001b[39m_compiled_cache\n\u001b[1;32m   1567\u001b[0m )\n\u001b[1;32m   1569\u001b[0m compiled_sql, extracted_params, cache_hit \u001b[39m=\u001b[39m elem\u001b[39m.\u001b[39m_compile_w_cache(\n\u001b[1;32m   1570\u001b[0m     dialect\u001b[39m=\u001b[39mdialect,\n\u001b[1;32m   1571\u001b[0m     compiled_cache\u001b[39m=\u001b[39mcompiled_cache,\n\u001b[0;32m   (...)\u001b[0m\n\u001b[1;32m   1575\u001b[0m     linting\u001b[39m=\u001b[39m\u001b[39mself\u001b[39m\u001b[39m.\u001b[39mdialect\u001b[39m.\u001b[39mcompiler_linting \u001b[39m|\u001b[39m compiler\u001b[39m.\u001b[39mWARN_LINTING,\n\u001b[1;32m   1576\u001b[0m )\n\u001b[0;32m-> 1577\u001b[0m ret \u001b[39m=\u001b[39m \u001b[39mself\u001b[39;49m\u001b[39m.\u001b[39;49m_execute_context(\n\u001b[1;32m   1578\u001b[0m     dialect,\n\u001b[1;32m   1579\u001b[0m     dialect\u001b[39m.\u001b[39;49mexecution_ctx_cls\u001b[39m.\u001b[39;49m_init_compiled,\n\u001b[1;32m   1580\u001b[0m     compiled_sql,\n\u001b[1;32m   1581\u001b[0m     distilled_params,\n\u001b[1;32m   1582\u001b[0m     execution_options,\n\u001b[1;32m   1583\u001b[0m     compiled_sql,\n\u001b[1;32m   1584\u001b[0m     distilled_params,\n\u001b[1;32m   1585\u001b[0m     elem,\n\u001b[1;32m   1586\u001b[0m     extracted_params,\n\u001b[1;32m   1587\u001b[0m     cache_hit\u001b[39m=\u001b[39;49mcache_hit,\n\u001b[1;32m   1588\u001b[0m )\n\u001b[1;32m   1589\u001b[0m \u001b[39mif\u001b[39;00m has_events:\n\u001b[1;32m   1590\u001b[0m     \u001b[39mself\u001b[39m\u001b[39m.\u001b[39mdispatch\u001b[39m.\u001b[39mafter_execute(\n\u001b[1;32m   1591\u001b[0m         \u001b[39mself\u001b[39m,\n\u001b[1;32m   1592\u001b[0m         elem,\n\u001b[0;32m   (...)\u001b[0m\n\u001b[1;32m   1596\u001b[0m         ret,\n\u001b[1;32m   1597\u001b[0m     )\n",
      "File \u001b[0;32m~/anaconda3/lib/python3.8/site-packages/sqlalchemy/engine/base.py:1948\u001b[0m, in \u001b[0;36mConnection._execute_context\u001b[0;34m(self, dialect, constructor, statement, parameters, execution_options, *args, **kw)\u001b[0m\n\u001b[1;32m   1945\u001b[0m             branched\u001b[39m.\u001b[39mclose()\n\u001b[1;32m   1947\u001b[0m \u001b[39mexcept\u001b[39;00m \u001b[39mBaseException\u001b[39;00m \u001b[39mas\u001b[39;00m e:\n\u001b[0;32m-> 1948\u001b[0m     \u001b[39mself\u001b[39;49m\u001b[39m.\u001b[39;49m_handle_dbapi_exception(\n\u001b[1;32m   1949\u001b[0m         e, statement, parameters, cursor, context\n\u001b[1;32m   1950\u001b[0m     )\n\u001b[1;32m   1952\u001b[0m \u001b[39mreturn\u001b[39;00m result\n",
      "File \u001b[0;32m~/anaconda3/lib/python3.8/site-packages/sqlalchemy/engine/base.py:2133\u001b[0m, in \u001b[0;36mConnection._handle_dbapi_exception\u001b[0;34m(self, e, statement, parameters, cursor, context)\u001b[0m\n\u001b[1;32m   2129\u001b[0m         util\u001b[39m.\u001b[39mraise_(\n\u001b[1;32m   2130\u001b[0m             sqlalchemy_exception, with_traceback\u001b[39m=\u001b[39mexc_info[\u001b[39m2\u001b[39m], from_\u001b[39m=\u001b[39me\n\u001b[1;32m   2131\u001b[0m         )\n\u001b[1;32m   2132\u001b[0m     \u001b[39melse\u001b[39;00m:\n\u001b[0;32m-> 2133\u001b[0m         util\u001b[39m.\u001b[39;49mraise_(exc_info[\u001b[39m1\u001b[39;49m], with_traceback\u001b[39m=\u001b[39;49mexc_info[\u001b[39m2\u001b[39;49m])\n\u001b[1;32m   2135\u001b[0m \u001b[39mfinally\u001b[39;00m:\n\u001b[1;32m   2136\u001b[0m     \u001b[39mdel\u001b[39;00m \u001b[39mself\u001b[39m\u001b[39m.\u001b[39m_reentrant_error\n",
      "File \u001b[0;32m~/anaconda3/lib/python3.8/site-packages/sqlalchemy/util/compat.py:211\u001b[0m, in \u001b[0;36mraise_\u001b[0;34m(***failed resolving arguments***)\u001b[0m\n\u001b[1;32m    208\u001b[0m     exception\u001b[39m.\u001b[39m__cause__ \u001b[39m=\u001b[39m replace_context\n\u001b[1;32m    210\u001b[0m \u001b[39mtry\u001b[39;00m:\n\u001b[0;32m--> 211\u001b[0m     \u001b[39mraise\u001b[39;00m exception\n\u001b[1;32m    212\u001b[0m \u001b[39mfinally\u001b[39;00m:\n\u001b[1;32m    213\u001b[0m     \u001b[39m# credit to\u001b[39;00m\n\u001b[1;32m    214\u001b[0m     \u001b[39m# https://cosmicpercolator.com/2016/01/13/exception-leaks-in-python-2-and-3/\u001b[39;00m\n\u001b[1;32m    215\u001b[0m     \u001b[39m# as the __traceback__ object creates a cycle\u001b[39;00m\n\u001b[1;32m    216\u001b[0m     \u001b[39mdel\u001b[39;00m exception, replace_context, from_, with_traceback\n",
      "File \u001b[0;32m~/anaconda3/lib/python3.8/site-packages/sqlalchemy/engine/base.py:1905\u001b[0m, in \u001b[0;36mConnection._execute_context\u001b[0;34m(self, dialect, constructor, statement, parameters, execution_options, *args, **kw)\u001b[0m\n\u001b[1;32m   1903\u001b[0m                 \u001b[39mbreak\u001b[39;00m\n\u001b[1;32m   1904\u001b[0m     \u001b[39mif\u001b[39;00m \u001b[39mnot\u001b[39;00m evt_handled:\n\u001b[0;32m-> 1905\u001b[0m         \u001b[39mself\u001b[39;49m\u001b[39m.\u001b[39;49mdialect\u001b[39m.\u001b[39;49mdo_execute(\n\u001b[1;32m   1906\u001b[0m             cursor, statement, parameters, context\n\u001b[1;32m   1907\u001b[0m         )\n\u001b[1;32m   1909\u001b[0m \u001b[39mif\u001b[39;00m \u001b[39mself\u001b[39m\u001b[39m.\u001b[39m_has_events \u001b[39mor\u001b[39;00m \u001b[39mself\u001b[39m\u001b[39m.\u001b[39mengine\u001b[39m.\u001b[39m_has_events:\n\u001b[1;32m   1910\u001b[0m     \u001b[39mself\u001b[39m\u001b[39m.\u001b[39mdispatch\u001b[39m.\u001b[39mafter_cursor_execute(\n\u001b[1;32m   1911\u001b[0m         \u001b[39mself\u001b[39m,\n\u001b[1;32m   1912\u001b[0m         cursor,\n\u001b[0;32m   (...)\u001b[0m\n\u001b[1;32m   1916\u001b[0m         context\u001b[39m.\u001b[39mexecutemany,\n\u001b[1;32m   1917\u001b[0m     )\n",
      "File \u001b[0;32m~/anaconda3/lib/python3.8/site-packages/sqlalchemy/engine/default.py:736\u001b[0m, in \u001b[0;36mDefaultDialect.do_execute\u001b[0;34m(self, cursor, statement, parameters, context)\u001b[0m\n\u001b[1;32m    735\u001b[0m \u001b[39mdef\u001b[39;00m \u001b[39mdo_execute\u001b[39m(\u001b[39mself\u001b[39m, cursor, statement, parameters, context\u001b[39m=\u001b[39m\u001b[39mNone\u001b[39;00m):\n\u001b[0;32m--> 736\u001b[0m     cursor\u001b[39m.\u001b[39;49mexecute(statement, parameters)\n",
      "File \u001b[0;32m~/anaconda3/lib/python3.8/encodings/utf_8.py:15\u001b[0m, in \u001b[0;36mdecode\u001b[0;34m(input, errors)\u001b[0m\n\u001b[1;32m     11\u001b[0m \u001b[39m### Codec APIs\u001b[39;00m\n\u001b[1;32m     13\u001b[0m encode \u001b[39m=\u001b[39m codecs\u001b[39m.\u001b[39mutf_8_encode\n\u001b[0;32m---> 15\u001b[0m \u001b[39mdef\u001b[39;00m \u001b[39mdecode\u001b[39m(\u001b[39minput\u001b[39m, errors\u001b[39m=\u001b[39m\u001b[39m'\u001b[39m\u001b[39mstrict\u001b[39m\u001b[39m'\u001b[39m):\n\u001b[1;32m     16\u001b[0m     \u001b[39mreturn\u001b[39;00m codecs\u001b[39m.\u001b[39mutf_8_decode(\u001b[39minput\u001b[39m, errors, \u001b[39mTrue\u001b[39;00m)\n\u001b[1;32m     18\u001b[0m \u001b[39mclass\u001b[39;00m \u001b[39mIncrementalEncoder\u001b[39;00m(codecs\u001b[39m.\u001b[39mIncrementalEncoder):\n",
      "\u001b[0;31mKeyboardInterrupt\u001b[0m: "
     ]
    }
   ],
   "source": [
    "db.list_libraries()\n",
    "db.list_tables(library='wrdsapps')\n",
    "db.describe_table(library='wrdsapps', table='firm_ratio_ibes')"
   ]
  },
  {
   "cell_type": "code",
   "execution_count": null,
   "metadata": {},
   "outputs": [],
   "source": [
    "db.list_libraries()\n",
    "db.list_tables(library='comp')\n",
    "db.describe_table(library='comp', table='secd')\n",
    "# stocknames = db.get_table(library='wrdsapps', table='firm_ratio', obs=20)\n",
    "# stocknames2 = db.get_table(library='wrdsapps', table='firm_ratio_ibes', obs=20)\n",
    "# stocknames.head()"
   ]
  },
  {
   "attachments": {},
   "cell_type": "markdown",
   "metadata": {},
   "source": [
    "### Code Starts"
   ]
  },
  {
   "cell_type": "code",
   "execution_count": null,
   "metadata": {},
   "outputs": [],
   "source": [
    "def _monthly_to_daily(df:pd.DataFrame):\n",
    "    #convert to datetimeindex\n",
    "    df.index = pd.to_datetime(df.index, dayfirst=True)\n",
    "    \n",
    "    idx = df.index[-1] + pd.offsets.MonthBegin(1)\n",
    "    df = df.append(df.iloc[[-1]].rename({df.index[-1]: idx}))\n",
    "\n",
    "    #resample with forward filling values, remove last helper row\n",
    "    df1 = df.resample('D').last().ffill().iloc[:-1]\n",
    "    return df1"
   ]
  },
  {
   "cell_type": "code",
   "execution_count": null,
   "metadata": {},
   "outputs": [],
   "source": [
    "# make functions\n",
    "\n",
    "def load_crsp_data(ticker_list:list, save_dir:str, market:str='NASDAQ'):\n",
    "    # set default settings\n",
    "    assert market in ['NASDAQ', 'DJIA'], 'Wrong market name. Not NASDAQ OR DJIA'\n",
    "\n",
    "    temp_dict = {}\n",
    "    num_stocks =  len(ticker_list)\n",
    "    ohlcv_col_name = ['date', 'tic', 'open', 'high', 'low', 'close', 'outstand_share', 'volume']\n",
    "    factor_col_name = ['date', 'tic', 'BTM'] #, 'BTM'\n",
    "    \n",
    "    for tic in tqdm(ticker_list):\n",
    "        # print(tic)\n",
    "        query_ohlcv = \"\"\" SELECT datadate, tic, prcod, prchd, prcld, prccd, cshoc, cshtrd\n",
    "                    FROM comp.secd\n",
    "                    WHERE tic = '{}' AND\n",
    "                    datadate BETWEEN '2000-01-01' AND '2023-05-01'\n",
    "                    \"\"\".format(tic)\n",
    "        \n",
    "        query_factor = \"\"\"\n",
    "                    SELECT public_date, ticker, bm\n",
    "                    FROM wrdsapps.firm_ratio_ibes\n",
    "                    WHERE ticker = '{}' AND\n",
    "                    public_date BETWEEN '2000-01-01' AND '2023-05-01'\n",
    "                    \"\"\".format(tic)\n",
    "        \n",
    "        ohlcv_df = db.raw_sql(query_ohlcv, date_cols=['datadate'])\n",
    "        factor_df = db.raw_sql(query_factor, date_cols=['datadate'])\n",
    "        # preprocessing df\n",
    "        ohlcv_df.columns = ohlcv_col_name\n",
    "        factor_df.columns = factor_col_name\n",
    "        ohlcv_df.set_index('date', inplace=True)\n",
    "        factor_df.set_index('date', inplace=True)\n",
    "\n",
    "        # factor_df's bm changes monthly, so...\n",
    "        factor_df = _monthly_to_daily(factor_df)\n",
    "        # ohlcv's open prices are nan\n",
    "        ohlcv_df['open'] = ohlcv_df['close'].shift(1).fillna(method='bfill')\n",
    "\n",
    "        # concat two dataframe\n",
    "        new_df = pd.merge(ohlcv_df, factor_df, \n",
    "                          left_index=True, right_index=True, \n",
    "                          how='inner')\n",
    "        new_df['MarketCap'] = new_df.close * new_df.outstand_share\n",
    "        new_df = new_df[['open', 'high', 'low', 'close', 'volume','BTM', 'MarketCap']]\n",
    "        new_df = new_df.sort_index(ascending=True)\n",
    "        new_df = new_df.fillna(method='ffill')\n",
    "        new_df.drop_duplicates(inplace=True)\n",
    "        new_df.to_csv(f\"{save_dir}/{market}/{tic}.csv\", date_format='%Y-%m-%d') \n",
    "        # temp_dict[tic] = new_df\n",
    "        time.sleep(1)   \n",
    "\n"
   ]
  },
  {
   "cell_type": "code",
   "execution_count": null,
   "metadata": {},
   "outputs": [
    {
     "name": "stderr",
     "output_type": "stream",
     "text": [
      "100%|██████████| 30/30 [01:43<00:00,  3.46s/it]\n",
      "100%|██████████| 30/30 [01:58<00:00,  3.95s/it]\n"
     ]
    }
   ],
   "source": [
    "load_crsp_data(nasq_ticker_name, save_data_dir, market='NASDAQ')\n",
    "time.sleep(1)   \n",
    "load_crsp_data(djia_ticker_name, save_data_dir, market='DJIA')\n",
    "# df = load_crsp_data(temp_name, save_data_dir, market='NASDAQ')\n"
   ]
  },
  {
   "cell_type": "code",
   "execution_count": null,
   "metadata": {},
   "outputs": [],
   "source": [
    "load_crsp_data(nasq_ticker_name, save_data_dir, market='NASDAQ')\n",
    "time.sleep(1)   \n",
    "load_crsp_data(djia_ticker_name, save_data_dir, market='DJIA')"
   ]
  },
  {
   "cell_type": "code",
   "execution_count": null,
   "metadata": {},
   "outputs": [],
   "source": []
  },
  {
   "cell_type": "code",
   "execution_count": 14,
   "metadata": {},
   "outputs": [],
   "source": [
    "## /home/ubuntu2010/바탕화면/DEV/EIIE/Othermodel/Deep-Portfolio-Management-Reinforcement-Learning-master/mydata2/\n",
    "# 서로 길이 다른 데이터가 있어 길이 통일\n",
    "def sync_all_data_length(stocks:list, market:str, startdate:str='2002-09-03'):\n",
    "    temp_df = pd.read_csv(save_data_dir+f'/{market}/{stocks[0]}.csv', parse_dates=['date'], index_col='date')\n",
    "    temp_df = temp_df['close'].copy()\n",
    "    min_len = np.inf\n",
    "    start_point = None\n",
    "\n",
    "    for s in tqdm(stocks):\n",
    "        print(save_data_dir+f'/{market}/{s}.csv')\n",
    "        df = pd.read_csv(save_data_dir+f'/{market}/{s}.csv', parse_dates=['date'], index_col='date')\n",
    "        if min_len > len(df):\n",
    "            min_len = len(df)\n",
    "            start_point = df.index[0] #2002-09-03\n",
    "            # print('s : ', s, ' len: ', len(df), 'Start : ', df.index[0])\n",
    "\n",
    "        # temp_df 기준으로 data 붙여서, 인덱스 정보 통일\n",
    "        tmp = pd.merge(temp_df, df, left_index=True, right_index=True, how='left', suffixes=('_tmp', ''))\n",
    "        tmp.drop(['close_tmp'], axis=1, inplace=True)\n",
    "        tmp = tmp.fillna(method='ffill')\n",
    "        tmp = tmp.dropna(axis=0, how='all')\n",
    "        tmp = tmp.loc[startdate:]\n",
    "        # print(tmp.head(3))\n",
    "        print(tmp.isna().sum().sum())\n",
    "        print(\"tmp length: \", len(tmp))\n",
    "        tmp.to_csv(save_data_dir+f'/{market}/{s}.csv')\n",
    "    return tmp    \n"
   ]
  },
  {
   "cell_type": "code",
   "execution_count": 13,
   "metadata": {},
   "outputs": [
    {
     "data": {
      "text/plain": [
       "26"
      ]
     },
     "execution_count": 13,
     "metadata": {},
     "output_type": "execute_result"
    }
   ],
   "source": [
    "len(djia_ticker_name)"
   ]
  },
  {
   "cell_type": "code",
   "execution_count": 15,
   "metadata": {},
   "outputs": [
    {
     "name": "stderr",
     "output_type": "stream",
     "text": [
      " 15%|█▌        | 4/26 [00:00<00:00, 39.58it/s]"
     ]
    },
    {
     "name": "stdout",
     "output_type": "stream",
     "text": [
      "/home1/hwang/famafrench_data/stockdata/final_data/DJIA/UNH.csv\n",
      "0\n",
      "tmp length:  4596\n",
      "/home1/hwang/famafrench_data/stockdata/final_data/DJIA/GS.csv\n",
      "0\n",
      "tmp length:  4596\n",
      "/home1/hwang/famafrench_data/stockdata/final_data/DJIA/MSFT.csv\n",
      "0\n",
      "tmp length:  4596\n",
      "/home1/hwang/famafrench_data/stockdata/final_data/DJIA/HD.csv\n",
      "0\n",
      "tmp length:  4596\n",
      "/home1/hwang/famafrench_data/stockdata/final_data/DJIA/MCD.csv\n",
      "0\n",
      "tmp length:  4596\n",
      "/home1/hwang/famafrench_data/stockdata/final_data/DJIA/AMGN.csv\n",
      "0\n",
      "tmp length:  4596\n",
      "/home1/hwang/famafrench_data/stockdata/final_data/DJIA/CAT.csv\n",
      "0\n",
      "tmp length:  4596\n",
      "/home1/hwang/famafrench_data/stockdata/final_data/DJIA/BA.csv\n",
      "0\n",
      "tmp length:  4596\n"
     ]
    },
    {
     "name": "stderr",
     "output_type": "stream",
     "text": [
      " 46%|████▌     | 12/26 [00:00<00:00, 39.16it/s]"
     ]
    },
    {
     "name": "stdout",
     "output_type": "stream",
     "text": [
      "/home1/hwang/famafrench_data/stockdata/final_data/DJIA/HON.csv\n",
      "0\n",
      "tmp length:  4596\n",
      "/home1/hwang/famafrench_data/stockdata/final_data/DJIA/TRV.csv\n",
      "0\n",
      "tmp length:  4596\n",
      "/home1/hwang/famafrench_data/stockdata/final_data/DJIA/AAPL.csv\n",
      "0\n",
      "tmp length:  4596\n",
      "/home1/hwang/famafrench_data/stockdata/final_data/DJIA/CVX.csv\n",
      "0\n",
      "tmp length:  4596\n",
      "/home1/hwang/famafrench_data/stockdata/final_data/DJIA/JNJ.csv\n",
      "0\n",
      "tmp length:  4596\n",
      "/home1/hwang/famafrench_data/stockdata/final_data/DJIA/AXP.csv\n",
      "0\n",
      "tmp length:  4596\n",
      "/home1/hwang/famafrench_data/stockdata/final_data/DJIA/PG.csv\n",
      "0\n",
      "tmp length:  4596\n",
      "/home1/hwang/famafrench_data/stockdata/final_data/DJIA/WMT.csv\n",
      "0\n",
      "tmp length:  4596\n"
     ]
    },
    {
     "name": "stderr",
     "output_type": "stream",
     "text": [
      " 77%|███████▋  | 20/26 [00:00<00:00, 39.03it/s]"
     ]
    },
    {
     "name": "stdout",
     "output_type": "stream",
     "text": [
      "/home1/hwang/famafrench_data/stockdata/final_data/DJIA/JPM.csv\n",
      "0\n",
      "tmp length:  4596\n",
      "/home1/hwang/famafrench_data/stockdata/final_data/DJIA/NKE.csv\n",
      "0\n",
      "tmp length:  4596\n",
      "/home1/hwang/famafrench_data/stockdata/final_data/DJIA/IBM.csv\n",
      "0\n",
      "tmp length:  4596\n",
      "/home1/hwang/famafrench_data/stockdata/final_data/DJIA/MRK.csv\n",
      "0\n",
      "tmp length:  4596\n",
      "/home1/hwang/famafrench_data/stockdata/final_data/DJIA/MMM.csv\n",
      "0\n",
      "tmp length:  4596\n",
      "/home1/hwang/famafrench_data/stockdata/final_data/DJIA/DIS.csv\n",
      "0\n",
      "tmp length:  4596\n",
      "/home1/hwang/famafrench_data/stockdata/final_data/DJIA/KO.csv\n",
      "0\n",
      "tmp length:  4596\n",
      "/home1/hwang/famafrench_data/stockdata/final_data/DJIA/CSCO.csv\n",
      "0\n",
      "tmp length:  4596\n"
     ]
    },
    {
     "name": "stderr",
     "output_type": "stream",
     "text": [
      "100%|██████████| 26/26 [00:00<00:00, 39.09it/s]"
     ]
    },
    {
     "name": "stdout",
     "output_type": "stream",
     "text": [
      "/home1/hwang/famafrench_data/stockdata/final_data/DJIA/VZ.csv\n",
      "0\n",
      "tmp length:  4596\n",
      "/home1/hwang/famafrench_data/stockdata/final_data/DJIA/INTC.csv\n",
      "0\n",
      "tmp length:  4596\n"
     ]
    },
    {
     "name": "stderr",
     "output_type": "stream",
     "text": [
      "\n"
     ]
    },
    {
     "data": {
      "text/html": [
       "<div>\n",
       "<style scoped>\n",
       "    .dataframe tbody tr th:only-of-type {\n",
       "        vertical-align: middle;\n",
       "    }\n",
       "\n",
       "    .dataframe tbody tr th {\n",
       "        vertical-align: top;\n",
       "    }\n",
       "\n",
       "    .dataframe thead th {\n",
       "        text-align: right;\n",
       "    }\n",
       "</style>\n",
       "<table border=\"1\" class=\"dataframe\">\n",
       "  <thead>\n",
       "    <tr style=\"text-align: right;\">\n",
       "      <th></th>\n",
       "      <th>open</th>\n",
       "      <th>high</th>\n",
       "      <th>low</th>\n",
       "      <th>close</th>\n",
       "      <th>volume</th>\n",
       "      <th>BTM</th>\n",
       "      <th>MarketCap</th>\n",
       "    </tr>\n",
       "    <tr>\n",
       "      <th>date</th>\n",
       "      <th></th>\n",
       "      <th></th>\n",
       "      <th></th>\n",
       "      <th></th>\n",
       "      <th></th>\n",
       "      <th></th>\n",
       "      <th></th>\n",
       "    </tr>\n",
       "  </thead>\n",
       "  <tbody>\n",
       "    <tr>\n",
       "      <th>2004-09-30</th>\n",
       "      <td>20.07</td>\n",
       "      <td>20.380</td>\n",
       "      <td>19.8300</td>\n",
       "      <td>20.06</td>\n",
       "      <td>72532400.0</td>\n",
       "      <td>0.227253</td>\n",
       "      <td>1.286849e+11</td>\n",
       "    </tr>\n",
       "    <tr>\n",
       "      <th>2004-10-01</th>\n",
       "      <td>20.06</td>\n",
       "      <td>20.920</td>\n",
       "      <td>20.2300</td>\n",
       "      <td>20.85</td>\n",
       "      <td>73831800.0</td>\n",
       "      <td>0.227253</td>\n",
       "      <td>1.337528e+11</td>\n",
       "    </tr>\n",
       "    <tr>\n",
       "      <th>2004-10-04</th>\n",
       "      <td>20.85</td>\n",
       "      <td>21.350</td>\n",
       "      <td>20.8500</td>\n",
       "      <td>21.13</td>\n",
       "      <td>74354650.0</td>\n",
       "      <td>0.227253</td>\n",
       "      <td>1.355490e+11</td>\n",
       "    </tr>\n",
       "    <tr>\n",
       "      <th>2004-10-05</th>\n",
       "      <td>21.13</td>\n",
       "      <td>21.480</td>\n",
       "      <td>20.9800</td>\n",
       "      <td>21.32</td>\n",
       "      <td>72056620.0</td>\n",
       "      <td>0.227253</td>\n",
       "      <td>1.367678e+11</td>\n",
       "    </tr>\n",
       "    <tr>\n",
       "      <th>2004-10-06</th>\n",
       "      <td>21.32</td>\n",
       "      <td>21.300</td>\n",
       "      <td>20.9399</td>\n",
       "      <td>21.13</td>\n",
       "      <td>57722980.0</td>\n",
       "      <td>0.227253</td>\n",
       "      <td>1.355490e+11</td>\n",
       "    </tr>\n",
       "    <tr>\n",
       "      <th>...</th>\n",
       "      <td>...</td>\n",
       "      <td>...</td>\n",
       "      <td>...</td>\n",
       "      <td>...</td>\n",
       "      <td>...</td>\n",
       "      <td>...</td>\n",
       "      <td>...</td>\n",
       "    </tr>\n",
       "    <tr>\n",
       "      <th>2022-12-23</th>\n",
       "      <td>25.97</td>\n",
       "      <td>26.190</td>\n",
       "      <td>25.6835</td>\n",
       "      <td>26.09</td>\n",
       "      <td>23587290.0</td>\n",
       "      <td>0.942580</td>\n",
       "      <td>1.076734e+11</td>\n",
       "    </tr>\n",
       "    <tr>\n",
       "      <th>2022-12-27</th>\n",
       "      <td>26.09</td>\n",
       "      <td>26.100</td>\n",
       "      <td>25.6500</td>\n",
       "      <td>25.94</td>\n",
       "      <td>29248590.0</td>\n",
       "      <td>0.942580</td>\n",
       "      <td>1.070544e+11</td>\n",
       "    </tr>\n",
       "    <tr>\n",
       "      <th>2022-12-28</th>\n",
       "      <td>25.94</td>\n",
       "      <td>26.115</td>\n",
       "      <td>25.5000</td>\n",
       "      <td>25.54</td>\n",
       "      <td>26079790.0</td>\n",
       "      <td>0.942580</td>\n",
       "      <td>1.054036e+11</td>\n",
       "    </tr>\n",
       "    <tr>\n",
       "      <th>2022-12-29</th>\n",
       "      <td>25.54</td>\n",
       "      <td>26.290</td>\n",
       "      <td>25.7500</td>\n",
       "      <td>26.21</td>\n",
       "      <td>30879520.0</td>\n",
       "      <td>0.942580</td>\n",
       "      <td>1.081687e+11</td>\n",
       "    </tr>\n",
       "    <tr>\n",
       "      <th>2022-12-30</th>\n",
       "      <td>26.21</td>\n",
       "      <td>26.460</td>\n",
       "      <td>25.8000</td>\n",
       "      <td>26.43</td>\n",
       "      <td>30993300.0</td>\n",
       "      <td>0.942580</td>\n",
       "      <td>1.090766e+11</td>\n",
       "    </tr>\n",
       "  </tbody>\n",
       "</table>\n",
       "<p>4596 rows × 7 columns</p>\n",
       "</div>"
      ],
      "text/plain": [
       "             open    high      low  close      volume       BTM     MarketCap\n",
       "date                                                                         \n",
       "2004-09-30  20.07  20.380  19.8300  20.06  72532400.0  0.227253  1.286849e+11\n",
       "2004-10-01  20.06  20.920  20.2300  20.85  73831800.0  0.227253  1.337528e+11\n",
       "2004-10-04  20.85  21.350  20.8500  21.13  74354650.0  0.227253  1.355490e+11\n",
       "2004-10-05  21.13  21.480  20.9800  21.32  72056620.0  0.227253  1.367678e+11\n",
       "2004-10-06  21.32  21.300  20.9399  21.13  57722980.0  0.227253  1.355490e+11\n",
       "...           ...     ...      ...    ...         ...       ...           ...\n",
       "2022-12-23  25.97  26.190  25.6835  26.09  23587290.0  0.942580  1.076734e+11\n",
       "2022-12-27  26.09  26.100  25.6500  25.94  29248590.0  0.942580  1.070544e+11\n",
       "2022-12-28  25.94  26.115  25.5000  25.54  26079790.0  0.942580  1.054036e+11\n",
       "2022-12-29  25.54  26.290  25.7500  26.21  30879520.0  0.942580  1.081687e+11\n",
       "2022-12-30  26.21  26.460  25.8000  26.43  30993300.0  0.942580  1.090766e+11\n",
       "\n",
       "[4596 rows x 7 columns]"
      ]
     },
     "execution_count": 15,
     "metadata": {},
     "output_type": "execute_result"
    }
   ],
   "source": [
    "# sync_all_data_length(nasq_ticker_name, market='NASDAQ', startdate='2002-09-03')\n",
    "# time.sleep(1)   \n",
    "sync_all_data_length(djia_ticker_name, market='DJIA', startdate='2004-09-30')"
   ]
  },
  {
   "cell_type": "code",
   "execution_count": null,
   "metadata": {},
   "outputs": [],
   "source": [
    "# 모든 코드 끝났을때\n",
    "db.close()"
   ]
  },
  {
   "cell_type": "code",
   "execution_count": null,
   "metadata": {},
   "outputs": [],
   "source": []
  },
  {
   "attachments": {},
   "cell_type": "markdown",
   "metadata": {},
   "source": [
    "# Draw & Save Time series Graphs "
   ]
  },
  {
   "cell_type": "code",
   "execution_count": 1,
   "metadata": {},
   "outputs": [],
   "source": [
    "import os\n",
    "import time\n",
    "import pandas as pd\n",
    "import numpy as np\n",
    "from tqdm import tqdm"
   ]
  },
  {
   "cell_type": "code",
   "execution_count": 2,
   "metadata": {},
   "outputs": [],
   "source": [
    "BASE_DIR = os.path.abspath('').split('/src')[0]\n",
    "DATA_DIR = os.path.abspath('').split('/trading')[0]+'/famafrench_data'\n",
    "\n",
    "save_data_dir = f'{DATA_DIR}/stockdata/final_data'\n",
    "nasq_ticker_name = ['MSFT', 'AAPL', 'AMZN', 'META', 'GOOG', 'TSLA', 'PEP','AVGO', 'COST', 'CSCO', \n",
    "                    'TMUS', 'CMCSA', 'ADBE', 'TXN', 'NFLX', 'AMD', 'HON', 'SBUX', 'QCOM', 'INTC', \n",
    "                    'AMGN', 'INTU', \"ISRG\", 'MDLZ', 'GILD', 'BKNG', 'AMAT', 'ADP', 'ADI', 'VRTX'] # nasdaq top 30 \n",
    "\n",
    "djia_ticker_name = ['UNH', 'GS', 'MSFT', 'HD', 'MCD', 'AMGN', 'V', 'CAT', 'BA', 'HON', \n",
    "                    'CRM', 'TRV', 'AAPL', 'CVX', 'JNJ', 'AXP', 'PG', 'WMT', 'JPM', 'NKE', \n",
    "                    'IBM', 'MRK', 'MMM', 'DIS', 'KO', 'DOW', 'CSCO', 'VZ', 'WBA', 'INTC']\n",
    "\n",
    "\n",
    "market = 'NASDAQ' # 'DJIA'\n",
    "tic = 'AAPL'\n",
    "file_dir = f\"{save_data_dir}/{market}/\" #f\"{save_data_dir}/{market}/{tic}.csv\""
   ]
  },
  {
   "cell_type": "code",
   "execution_count": null,
   "metadata": {},
   "outputs": [],
   "source": [
    "def draw_plots(ticker_name:list, market):\n",
    "    \n",
    "    \n",
    "    \n",
    "    \n",
    "    return"
   ]
  },
  {
   "cell_type": "code",
   "execution_count": null,
   "metadata": {},
   "outputs": [],
   "source": []
  }
 ],
 "metadata": {
  "kernelspec": {
   "display_name": "frenchviz",
   "language": "python",
   "name": "python3"
  },
  "language_info": {
   "codemirror_mode": {
    "name": "ipython",
    "version": 3
   },
   "file_extension": ".py",
   "mimetype": "text/x-python",
   "name": "python",
   "nbconvert_exporter": "python",
   "pygments_lexer": "ipython3",
   "version": "3.8.0"
  },
  "orig_nbformat": 4
 },
 "nbformat": 4,
 "nbformat_minor": 2
}
