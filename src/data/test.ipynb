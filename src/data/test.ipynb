{
 "cells": [
  {
   "cell_type": "code",
   "execution_count": 1,
   "metadata": {},
   "outputs": [],
   "source": [
    "import os\n",
    "import numpy as np\n",
    "import pandas as pd\n",
    "import json\n",
    "from datetime import date, datetime, timedelta\n",
    "from sklearn.preprocessing import MinMaxScaler"
   ]
  },
  {
   "cell_type": "code",
   "execution_count": 48,
   "metadata": {},
   "outputs": [],
   "source": [
    "def minmax_scale(data, axis=1, min=None, max=None, feature_range=(0,1), reverse=False) -> np.array:\n",
    "    '''\n",
    "    Factor 지표에 대해서 스케일링 처리해줌\n",
    "        - data : minmax 스케일링 할 데이터\n",
    "        - axis : 스케일링을 적용할 축 \n",
    "            - Factor 의 경우 가로축 데이터를 대상으로 할때는 axis=1)\n",
    "        - scaler : 만약, trainset이 아닌경우에는 scaler 객체를 받아와서 적용한다.\n",
    "    \n",
    "    Output\n",
    "        - scaled_data : 스케일링 적용이 완료된 데이터\n",
    "        - data_min, data_max (np.array) : 민맥스 스케일링 정보 담은 리스트\n",
    "    '''\n",
    "    X = data\n",
    "    feat_min, feat_max = feature_range\n",
    "\n",
    "    if min==None and max==None:\n",
    "        min = np.expand_dims(X.min(axis=axis), axis=axis)\n",
    "        max = np.expand_dims(X.max(axis=axis), axis=axis)\n",
    "\n",
    "    X_std = (X-min)/(max - min) \n",
    "    X_scaled = X_std*(feat_max-feat_min)+feat_min\n",
    "\n",
    "    if reverse:\n",
    "        X_scaled = feat_max-X_scaled\n",
    "    \n",
    "    # print(\"X_std: \", X_std)\n",
    "    # print(\"X_std: \", X_scaled)\n",
    "    return X_scaled # min, max"
   ]
  },
  {
   "cell_type": "code",
   "execution_count": 40,
   "metadata": {},
   "outputs": [
    {
     "name": "stdout",
     "output_type": "stream",
     "text": [
      "[[0.03822811 0.04112065 0.        ]\n",
      " [0.         0.4980528  0.78781102]\n",
      " [0.42245564 0.         0.2545814 ]\n",
      " [0.         0.48721694 0.59464055]\n",
      " [0.         0.48118583 0.38371542]]\n"
     ]
    },
    {
     "data": {
      "text/plain": [
       "array([[0.92965727, 1.        , 0.        ],\n",
       "       [0.        , 0.63219832, 1.        ],\n",
       "       [1.        , 0.        , 0.6026228 ],\n",
       "       [0.        , 0.81934698, 1.        ],\n",
       "       [0.        , 1.        , 0.79743707]])"
      ]
     },
     "execution_count": 40,
     "metadata": {},
     "output_type": "execute_result"
    }
   ],
   "source": [
    "# data = np.array([i for i in range(200)]).reshape(20,10)\n",
    "data = np.random.rand(5,3)\n",
    "minmax_scale(data, axis=1)"
   ]
  },
  {
   "cell_type": "code",
   "execution_count": 50,
   "metadata": {},
   "outputs": [
    {
     "name": "stdout",
     "output_type": "stream",
     "text": [
      "[[0.71120282 0.71409536 0.67297471]\n",
      " [0.06152607 0.55957887 0.84933709]\n",
      " [0.70582224 0.28336659 0.537948  ]\n",
      " [0.17268983 0.65990677 0.76733039]\n",
      " [0.43247865 0.91366448 0.81619407]]\n"
     ]
    },
    {
     "data": {
      "text/plain": [
       "array([[0.07034273, 0.        , 1.        ],\n",
       "       [1.        , 0.36780168, 0.        ],\n",
       "       [0.        , 1.        , 0.3973772 ],\n",
       "       [1.        , 0.18065302, 0.        ],\n",
       "       [1.        , 0.        , 0.20256293]])"
      ]
     },
     "execution_count": 50,
     "metadata": {},
     "output_type": "execute_result"
    }
   ],
   "source": [
    "print(data)\n",
    "minmax_scale(data, axis=1, reverse=True)"
   ]
  }
 ],
 "metadata": {
  "kernelspec": {
   "display_name": "famafrench",
   "language": "python",
   "name": "python3"
  },
  "language_info": {
   "codemirror_mode": {
    "name": "ipython",
    "version": 3
   },
   "file_extension": ".py",
   "mimetype": "text/x-python",
   "name": "python",
   "nbconvert_exporter": "python",
   "pygments_lexer": "ipython3",
   "version": "3.8.0"
  },
  "orig_nbformat": 4
 },
 "nbformat": 4,
 "nbformat_minor": 2
}
